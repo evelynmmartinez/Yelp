{
 "cells": [
  {
   "cell_type": "code",
   "execution_count": null,
   "id": "a44b2230",
   "metadata": {},
   "outputs": [],
   "source": [
    "pip install yelpapi"
   ]
  },
  {
   "cell_type": "code",
   "execution_count": 14,
   "id": "06b30b16",
   "metadata": {},
   "outputs": [
    {
     "data": {
      "text/plain": [
       "dict_keys(['Client-ID', 'API Key'])"
      ]
     },
     "execution_count": 14,
     "metadata": {},
     "output_type": "execute_result"
    }
   ],
   "source": [
    "import json \n",
    "with open('/Users/evelynmartinez/.secret/yelp_api.json') as f:\n",
    "    login = json.load(f)\n",
    "    \n",
    "login.keys()"
   ]
  },
  {
   "cell_type": "code",
   "execution_count": 18,
   "id": "e4f05b78",
   "metadata": {},
   "outputs": [
    {
     "data": {
      "text/plain": [
       "<yelpapi.yelpapi.YelpAPI at 0x10a31e0d0>"
      ]
     },
     "execution_count": 18,
     "metadata": {},
     "output_type": "execute_result"
    }
   ],
   "source": [
    "from yelpapi import YelpAPI\n",
    "yelp_api = YelpAPI(login['Client-ID'], timeout_s=5.0)\n",
    "yelp_api"
   ]
  },
  {
   "cell_type": "code",
   "execution_count": null,
   "id": "f197607f",
   "metadata": {},
   "outputs": [],
   "source": [
    "results = yelp_api.search_query(location='Austin, TX',\n",
    "                               term='Tacos')\n",
    "print(type(results))\n",
    "results.keys()"
   ]
  },
  {
   "cell_type": "code",
   "execution_count": null,
   "id": "46333ef6",
   "metadata": {},
   "outputs": [],
   "source": []
  }
 ],
 "metadata": {
  "kernelspec": {
   "display_name": "Python (dojo-env)",
   "language": "python",
   "name": "dojo-env"
  },
  "language_info": {
   "codemirror_mode": {
    "name": "ipython",
    "version": 3
   },
   "file_extension": ".py",
   "mimetype": "text/x-python",
   "name": "python",
   "nbconvert_exporter": "python",
   "pygments_lexer": "ipython3",
   "version": "3.9.15"
  },
  "toc": {
   "base_numbering": 1,
   "nav_menu": {},
   "number_sections": true,
   "sideBar": true,
   "skip_h1_title": false,
   "title_cell": "Table of Contents",
   "title_sidebar": "Contents",
   "toc_cell": false,
   "toc_position": {},
   "toc_section_display": true,
   "toc_window_display": false
  }
 },
 "nbformat": 4,
 "nbformat_minor": 5
}
